{
 "cells": [
  {
   "cell_type": "markdown",
   "id": "52e35543",
   "metadata": {},
   "source": [
    "### Hypothesis testing\n",
    "\n",
    "This noteboook reproduces the plots corresponding to Figures 2 d,e in the manuscript “Pancreas-liver in vitro and in silico hybrid model for human diabetic dysregulation”. The figures are saved in the `exported_figs` folder."
   ]
  },
  {
   "cell_type": "markdown",
   "id": "7047e87e",
   "metadata": {},
   "source": [
    "##### Import packages and define plotting settings"
   ]
  },
  {
   "cell_type": "code",
   "execution_count": 81,
   "id": "458b2a63",
   "metadata": {
    "scrolled": true
   },
   "outputs": [
    {
     "name": "stderr",
     "output_type": "stream",
     "text": [
      "/Users/belen/opt/anaconda3/envs/manuscript_IR/lib/python3.9/site-packages/IPython/core/interactiveshell.py:3139: DtypeWarning: Columns (14) have mixed types.Specify dtype option on import or set low_memory=False.\n",
      "  has_raised = await self.run_ast_nodes(code_ast.body, cell_name,\n"
     ]
    }
   ],
   "source": [
    "import os\n",
    "import pandas as pd\n",
    "import matplotlib.pyplot as plt\n",
    "import numpy as np\n",
    "import seaborn as sns\n",
    "from scipy.io import loadmat\n",
    "\n",
    "from figure_styles import (seaborn_style, \n",
    "                                      group_colors, figpath,\n",
    "                                      FIGURE_WIDTH, FIGURE_HEIGHT)\n",
    "from pylab import cm\n",
    "from matplotlib import patches as mpatches\n",
    "\n",
    "# Load functions with figure styles\n",
    "figpath = figpath()\n",
    "seaborn_style()\n",
    "pal = group_colors()\n",
    "\n",
    "# Set color array\n",
    "colors = [[0.92,0.68,0.0353],[0.8,0,0.2]]\n",
    "colors1 = [[0.8,0,0.2], [0.92,0.68,0.0353]]\n",
    "\n",
    "# Set custom color palette\n",
    "customPalette = sns.set_palette(sns.color_palette(colors))\n",
    "\n",
    "\n",
    "customPalette1 = sns.set_palette(sns.color_palette(colors1))\n",
    "\n",
    "\n",
    "dataChip14 = pd.read_csv (r'ExperimentalDataChip14.csv')   \n",
    "simulationsChip14Hyper = pd.read_csv (r'SimulationsChip14Hyper.csv') \n",
    "simulationsChip14Normo = pd.read_csv (r'SimulationsChip14Normo.csv') \n",
    "predictionChip14DoseB = pd.read_csv (r'PredictionChip14doseB.csv')   \n",
    "predictionsChip14HyperDoseB = pd.read_csv (r'PredictionsChip14HyperDoseB.csv')   \n",
    "predictionsChip14NormoDoseB = pd.read_csv (r'PredictionsChip14NormoDoseB.csv')   \n"
   ]
  },
  {
   "cell_type": "markdown",
   "id": "327b1735",
   "metadata": {},
   "source": [
    "##### Import data"
   ]
  },
  {
   "cell_type": "code",
   "execution_count": 82,
   "id": "b7c360dc",
   "metadata": {},
   "outputs": [],
   "source": [
    "dataChip14 = pd.read_csv (r'ExperimentalDataChip14.csv')   \n",
    "simulationsChip14Hyper = pd.read_csv (r'SimulationsChip14Hyper.csv') \n",
    "simulationsChip14Normo = pd.read_csv (r'SimulationsChip14Normo.csv') \n",
    "predictionChip14DoseB = pd.read_csv (r'PredictionChip14doseB.csv')   \n",
    "predictionsChip14HyperDoseB = pd.read_csv (r'PredictionsChip14HyperDoseB.csv')   \n",
    "predictionsChip14NormoDoseB = pd.read_csv (r'PredictionsChip14NormoDoseB.csv')   \n",
    "\n",
    "predictionsChip14HyperDoseB = predictionsChip14HyperDoseB[predictionsChip14HyperDoseB['time_GTT']<=48]\n",
    "predictionsChip14NormoDoseB = predictionsChip14NormoDoseB[predictionsChip14NormoDoseB['time_GTT']<=48]"
   ]
  },
  {
   "cell_type": "markdown",
   "id": "abfcd135",
   "metadata": {},
   "source": [
    "##### Plot glucose prediction for GTT days 13-15 corresponding to hypothesis 1"
   ]
  },
  {
   "cell_type": "code",
   "execution_count": 83,
   "id": "ea9fb8a5",
   "metadata": {
    "scrolled": true
   },
   "outputs": [
    {
     "name": "stderr",
     "output_type": "stream",
     "text": [
      "/Users/belen/opt/anaconda3/envs/manuscript_IR/lib/python3.9/site-packages/numpy/core/_asarray.py:102: UserWarning: Warning: converting a masked element to nan.\n",
      "  return array(a, dtype, copy=False, order=order)\n",
      "/Users/belen/opt/anaconda3/envs/manuscript_IR/lib/python3.9/site-packages/numpy/core/_asarray.py:102: UserWarning: Warning: converting a masked element to nan.\n",
      "  return array(a, dtype, copy=False, order=order)\n"
     ]
    },
    {
     "data": {
      "image/png": "[encoded data removed]",
      "text/plain": [
       "<Figure size 133.333x200 with 1 Axes>"
      ]
     },
     "metadata": {},
     "output_type": "display_data"
    }
   ],
   "source": [
    "\n",
    "\n",
    "plt.close('all')\n",
    "\n",
    "fig = sns.FacetGrid(data=predictionChip14DoseB, \n",
    "                    hue=\"Glycemic_level\", palette=customPalette,\n",
    "                    sharex=True, sharey=True,\n",
    "                    height=FIGURE_HEIGHT, aspect=(FIGURE_WIDTH/6)/FIGURE_HEIGHT)\n",
    "\n",
    "fig.map(plt.errorbar, \"time_GTT\", \"Glucose_mean\", \"Glucose_SEM\", fmt='none', elinewidth=1, capsize=0.5, capthick=0.3,\n",
    "       alpha=0.5)\n",
    "sns.lineplot(data=predictionChip14DoseB[(predictionChip14DoseB['Glycemic_level'] == 'Hyperglycemia')],\n",
    "             x='time_GTT', y='Glucose_mean', marker='o', err_style='bars',\n",
    "             color=customPalette1, linewidth=0, ci=95, ax=fig.ax, legend=None, alpha=1)# \n",
    "sns.lineplot(data=predictionChip14DoseB[(predictionChip14DoseB['Glycemic_level'] == 'Normoglycemia')],\n",
    "             x='time_GTT', y='Glucose_mean', marker='o', err_style='bars',\n",
    "             color=customPalette, linewidth=0, ci=95, ax=fig.ax, legend=None, alpha=0.5)#                                         \n",
    "fig.ax.fill_between(data=predictionsChip14HyperDoseB, x='time_GTT', y1='H1_G_min', y2='H1_G_max', alpha=0.5, \n",
    "                    facecolor=colors[1])\n",
    "fig.ax.fill_between(data=predictionsChip14NormoDoseB, x='time_GTT', y1='H1_G_min', y2='H1_G_max', alpha=0.5, \n",
    "                    facecolor=colors[0])\n",
    "\n",
    "# Overlay shaded area to indicate prediction\n",
    "\n",
    "rect=mpatches.Rectangle((0,0),48,12, \n",
    "                        alpha=0.075,\n",
    "                        facecolor='green')\n",
    "\n",
    "plt.gca().add_patch(rect)\n",
    "\n",
    "plt.text(23, 12.5, 'GTT day 13-15', horizontalalignment = 'center', fontsize = 'x-small')\n",
    "\n",
    "fig.set_axis_labels('Time (hours)', 'Glucose (mM)')\n",
    "fig.ax.set_xticks([0,24,48,72])\n",
    "fig.ax.set_xlim(-3,50)\n",
    "fig.ax.set_ylim(3,12)\n",
    "fig.despine(trim=True)\n",
    "plt.tight_layout(w_pad=-0.1)\n",
    "fig.savefig(os.path.join(figpath, \"predictionGlucoseH1doseB.pdf\"))\n",
    "\n"
   ]
  },
  {
   "cell_type": "markdown",
   "id": "3e05ef92",
   "metadata": {},
   "source": [
    "##### Plot glucose prediction for GTT days 13-15 corresponding to hypothesis 2"
   ]
  },
  {
   "cell_type": "code",
   "execution_count": 84,
   "id": "4542bf6f",
   "metadata": {},
   "outputs": [
    {
     "name": "stderr",
     "output_type": "stream",
     "text": [
      "/Users/belen/opt/anaconda3/envs/manuscript_IR/lib/python3.9/site-packages/numpy/core/_asarray.py:102: UserWarning: Warning: converting a masked element to nan.\n",
      "  return array(a, dtype, copy=False, order=order)\n",
      "/Users/belen/opt/anaconda3/envs/manuscript_IR/lib/python3.9/site-packages/numpy/core/_asarray.py:102: UserWarning: Warning: converting a masked element to nan.\n",
      "  return array(a, dtype, copy=False, order=order)\n"
     ]
    },
    {
     "data": {
      "image/png": "[encoded data removed]",
      "text/plain": [
       "<Figure size 133.333x200 with 1 Axes>"
      ]
     },
     "metadata": {},
     "output_type": "display_data"
    }
   ],
   "source": [
    "plt.close('all')\n",
    "\n",
    "fig = sns.FacetGrid(data=predictionChip14DoseB, hue=\"Glycemic_level\", palette=customPalette,\n",
    "                    sharex=True, sharey=True,\n",
    "                    height=FIGURE_HEIGHT, aspect=(FIGURE_WIDTH/6)/FIGURE_HEIGHT)\n",
    "\n",
    "fig.map(plt.errorbar, \"time_GTT\", \"Glucose_mean\", \"Glucose_SEM\", fmt='none', elinewidth=1, capsize=0.5, capthick=0.3,\n",
    "       alpha=0.5)\n",
    "sns.lineplot(data=predictionChip14DoseB[(predictionChip14DoseB['Glycemic_level'] == 'Hyperglycemia')],\n",
    "             x='time_GTT', y='Glucose_mean', marker='o', err_style='bars',\n",
    "             color=customPalette1, linewidth=0, ci=95, ax=fig.ax, legend=None, alpha=1)# \n",
    "sns.lineplot(data=predictionChip14DoseB[(predictionChip14DoseB['Glycemic_level'] == 'Normoglycemia')],\n",
    "             x='time_GTT', y='Glucose_mean', marker='o', err_style='bars',\n",
    "             color=customPalette, linewidth=0, ci=95, ax=fig.ax, legend=None, alpha=0.5)#     \n",
    "fig.ax.fill_between(data=predictionsChip14HyperDoseB, x='time_GTT', y1='H2_G_min', y2='H2_G_max', alpha=0.5, \n",
    "                    facecolor=colors[1])\n",
    "fig.ax.fill_between(data=predictionsChip14NormoDoseB, x='time_GTT', y1='H2_G_min', y2='H2_G_max', alpha=0.5, \n",
    "                    facecolor=colors[0])\n",
    "\n",
    "rect=mpatches.Rectangle((0,0),48,12, \n",
    "                        alpha=0.075,\n",
    "                        facecolor='green')\n",
    "\n",
    "plt.text(23, 12.5, 'GTT day 13-15', horizontalalignment = 'center', fontsize = 'x-small')\n",
    "\n",
    "plt.gca().add_patch(rect)\n",
    "\n",
    "fig.set_axis_labels('Time (hours)', 'Glucose (mM)')\n",
    "fig.ax.set_xticks([0,24,48,72])\n",
    "fig.ax.set_yticks([4,6,8,10,12])\n",
    "fig.ax.set_xlim(-3,50)\n",
    "fig.ax.set_ylim(3,12)\n",
    "fig.despine(trim=True)\n",
    "plt.tight_layout(w_pad=-0.1)\n",
    "fig.savefig(os.path.join(figpath, \"predictionGlucoseH2doseB.pdf\"))\n"
   ]
  },
  {
   "cell_type": "markdown",
   "id": "dd372b0a",
   "metadata": {},
   "source": [
    "##### Plot insulin prediction for GTT days 13-15 corresponding to hypothesis 1"
   ]
  },
  {
   "cell_type": "code",
   "execution_count": 85,
   "id": "90dd9f74",
   "metadata": {
    "scrolled": false
   },
   "outputs": [
    {
     "name": "stderr",
     "output_type": "stream",
     "text": [
      "/Users/belen/opt/anaconda3/envs/manuscript_IR/lib/python3.9/site-packages/numpy/core/_asarray.py:102: UserWarning: Warning: converting a masked element to nan.\n",
      "  return array(a, dtype, copy=False, order=order)\n",
      "/Users/belen/opt/anaconda3/envs/manuscript_IR/lib/python3.9/site-packages/numpy/core/_asarray.py:102: UserWarning: Warning: converting a masked element to nan.\n",
      "  return array(a, dtype, copy=False, order=order)\n"
     ]
    },
    {
     "data": {
      "image/png": "[encoded data removed]",
      "text/plain": [
       "<Figure size 133.333x200 with 1 Axes>"
      ]
     },
     "metadata": {},
     "output_type": "display_data"
    }
   ],
   "source": [
    "\n",
    "plt.close('all')\n",
    "\n",
    "fig = sns.FacetGrid(data=predictionChip14DoseB, hue=\"Glycemic_level\", palette=customPalette1,\n",
    "                    sharex=True, sharey=True,\n",
    "                    height=FIGURE_HEIGHT, aspect=(FIGURE_WIDTH/6)/FIGURE_HEIGHT)\n",
    "\n",
    "#fig.map(plt.errorbar, \"time_total\", \"Glucose_mean\", \"Glucose_SEM\", fmt='none')\n",
    "fig.map(plt.errorbar, \"time_GTT\", \"Insulin_mean\", \"Insulin_SEM\", fmt='none', elinewidth=1, capsize=0.5, capthick=0.3,\n",
    "       alpha=0.5)\n",
    "sns.lineplot(data=predictionChip14DoseB[(predictionChip14DoseB['Glycemic_level'] == 'Hyperglycemia')],\n",
    "             x='time_GTT', y='Insulin_mean', marker='o', err_style='bars',\n",
    "             color=customPalette1, linewidth=0, ci=95, ax=fig.ax, legend=None, alpha=1)# overlay the simulated\n",
    "sns.lineplot(data=predictionChip14DoseB[(predictionChip14DoseB['Glycemic_level'] == 'Normoglycemia')],\n",
    "             x='time_GTT', y='Insulin_mean', marker='o', err_style='bars',\n",
    "             color=customPalette, linewidth=0, ci=95, ax=fig.ax, legend=None, alpha=0.5)# overlay the simulated\n",
    "fig.ax.fill_between(data=predictionsChip14HyperDoseB, x='time_GTT', y1='H1_I_min_nM', y2='H1_I_max_nM', alpha=0.5, \n",
    "                    facecolor=colors[1])\n",
    "fig.ax.fill_between(data=predictionsChip14NormoDoseB, x='time_GTT', y1='H1_I_min_nM', y2='H1_I_max_nM', alpha=0.5, \n",
    "                    facecolor=colors[0])\n",
    "\n",
    "rect=mpatches.Rectangle((0,0),48,25, \n",
    "                        alpha=0.075,\n",
    "                        facecolor='green')\n",
    "plt.gca().add_patch(rect)\n",
    "\n",
    "plt.text(23, 26, 'GTT day 13-15', horizontalalignment = 'center', fontsize = 'x-small')\n",
    "\n",
    "fig.set_axis_labels('Time (hours)', 'Insulin (nM)')\n",
    "fig.ax.set_xticks([0,24,48,72])\n",
    "fig.ax.set_xlim(-3,50)\n",
    "fig.despine(trim=True)\n",
    "plt.tight_layout(w_pad=-0.1)\n",
    "fig.savefig(os.path.join(figpath, \"predictionInsulinH1doseB.pdf\"))\n"
   ]
  },
  {
   "cell_type": "markdown",
   "id": "654929dc",
   "metadata": {},
   "source": [
    "##### Plot insulin prediction for GTT days 13-15 corresponding to hypothesis 2"
   ]
  },
  {
   "cell_type": "code",
   "execution_count": 86,
   "id": "8a948377",
   "metadata": {},
   "outputs": [
    {
     "name": "stderr",
     "output_type": "stream",
     "text": [
      "/Users/belen/opt/anaconda3/envs/manuscript_IR/lib/python3.9/site-packages/numpy/core/_asarray.py:102: UserWarning: Warning: converting a masked element to nan.\n",
      "  return array(a, dtype, copy=False, order=order)\n",
      "/Users/belen/opt/anaconda3/envs/manuscript_IR/lib/python3.9/site-packages/numpy/core/_asarray.py:102: UserWarning: Warning: converting a masked element to nan.\n",
      "  return array(a, dtype, copy=False, order=order)\n"
     ]
    },
    {
     "data": {
      "image/png": "[encoded data removed]",
      "text/plain": [
       "<Figure size 133.333x200 with 1 Axes>"
      ]
     },
     "metadata": {},
     "output_type": "display_data"
    }
   ],
   "source": [
    "\n",
    "plt.close('all')\n",
    "\n",
    "fig = sns.FacetGrid(data=predictionChip14DoseB, hue=\"Glycemic_level\", palette=customPalette,\n",
    "                    sharex=True, sharey=True,\n",
    "                    height=FIGURE_HEIGHT, aspect=(FIGURE_WIDTH/6)/FIGURE_HEIGHT)\n",
    "\n",
    "#fig.map(plt.errorbar, \"time_total\", \"Glucose_mean\", \"Glucose_SEM\", fmt='none')\n",
    "fig.map(plt.errorbar, \"time_GTT\", \"Insulin_mean\", \"Insulin_SEM\", fmt='none', elinewidth=1, capsize=0.5, capthick=0.3)\n",
    "sns.lineplot(data=predictionChip14DoseB[(predictionChip14DoseB['Glycemic_level'] == 'Hyperglycemia')],\n",
    "             x='time_GTT', y='Insulin_mean', marker='o', err_style='bars',\n",
    "             color=customPalette1, linewidth=0, ci=95, ax=fig.ax, legend=None, alpha=1)# overlay the simulated\n",
    "sns.lineplot(data=predictionChip14DoseB[(predictionChip14DoseB['Glycemic_level'] == 'Normoglycemia')],\n",
    "             x='time_GTT', y='Insulin_mean', marker='o', err_style='bars',\n",
    "             color=customPalette, linewidth=0, ci=95, ax=fig.ax, legend=None, alpha=0.5)# overlay the simulated\n",
    "fig.ax.fill_between(data=predictionsChip14HyperDoseB, x='time_GTT', y1='H2_I_min_nM', y2='H2_I_max_nM', alpha=0.5, \n",
    "                    facecolor=colors[1])\n",
    "fig.ax.fill_between(data=predictionsChip14NormoDoseB, x='time_GTT', y1='H2_I_min_nM', y2='H2_I_max_nM', alpha=0.5, \n",
    "                    facecolor=colors[0])\n",
    "\n",
    "rect=mpatches.Rectangle((0,0),48,25, \n",
    "                        alpha=0.075,\n",
    "                        facecolor='green')\n",
    "plt.gca().add_patch(rect)\n",
    "\n",
    "plt.text(23, 26, 'GTT day 13-15', horizontalalignment = 'center', fontsize = 'x-small')\n",
    "\n",
    "fig.set_axis_labels('Time (hours)', 'Insulin (nM)')\n",
    "fig.ax.set_xticks([0,24,48,72])\n",
    "fig.ax.set_xlim(-3,50)\n",
    "fig.despine(trim=True)\n",
    "plt.tight_layout(w_pad=-0.1)\n",
    "fig.savefig(os.path.join(figpath, \"predictionInsulinH2doseB.pdf\"))"
   ]
  },
  {
   "cell_type": "markdown",
   "id": "e15aebfa",
   "metadata": {},
   "source": [
    "##### Plot graph to estimate the insulin dose needed to distinguish between hypothesis H1 and H2"
   ]
  },
  {
   "cell_type": "markdown",
   "id": "1fe4f0da",
   "metadata": {},
   "source": [
    "###### Import data corresponding to glucose simulations at hyper and normoglycemia at the selected dose for both hypotheses"
   ]
  },
  {
   "cell_type": "code",
   "execution_count": 87,
   "id": "3b85638f",
   "metadata": {},
   "outputs": [],
   "source": [
    "G_5p5mM_H1 = loadmat('G_5p5mM_H1.mat')\n",
    "G_11mM_H1 = loadmat('G_11mM_H1.mat')\n",
    "G_5p5mM_H2 = loadmat('G_5p5mM_H2.mat')\n",
    "G_11mM_H2 = loadmat('G_11mM_H2.mat')"
   ]
  },
  {
   "cell_type": "code",
   "execution_count": 88,
   "id": "f75c91c3",
   "metadata": {},
   "outputs": [],
   "source": [
    "\n",
    "df_G_5p5mM_H1 = pd.DataFrame.from_records(G_5p5mM_H1['Gmeasured_5p5mM_H1']).transpose()\n",
    "df_G_11mM_H1 = pd.DataFrame.from_records(G_11mM_H1['Gmeasured_11mM_H1']).transpose()\n",
    "df_G_5p5mM_H2 = pd.DataFrame.from_records(G_5p5mM_H2['Gmeasured_5p5mM_H2']).transpose()\n",
    "df_G_11mM_H2 = pd.DataFrame.from_records(G_11mM_H2['Gmeasured_11mM_H2']).transpose()"
   ]
  },
  {
   "cell_type": "code",
   "execution_count": 89,
   "id": "24f611f7",
   "metadata": {},
   "outputs": [],
   "source": [
    "df_H1 = pd.DataFrame()\n",
    "df_H2 = pd.DataFrame()\n",
    "\n",
    "# Compute the difference between hyper- and normoglycemic responses for both hypotheses\n",
    "for col in df_G_5p5mM_H1.columns:\n",
    "    df_H1[col] = df_G_11mM_H1[col] - df_G_5p5mM_H1[col]\n",
    "    df_H2[col] = df_G_11mM_H2[col] - df_G_5p5mM_H2[col]"
   ]
  },
  {
   "cell_type": "code",
   "execution_count": 90,
   "id": "e27dfc90",
   "metadata": {},
   "outputs": [
    {
     "data": {
      "image/png": "[encoded data removed]",
      "text/plain": [
       "<Figure size 133.333x200 with 1 Axes>"
      ]
     },
     "metadata": {},
     "output_type": "display_data"
    }
   ],
   "source": [
    "fig = sns.FacetGrid(data=df_H1, \n",
    "                    sharex=True, sharey=True,\n",
    "                    height=FIGURE_HEIGHT, aspect=(FIGURE_WIDTH/6)/FIGURE_HEIGHT)\n",
    "sns.lineplot(df_H1.iloc[28800:,1:2], palette=['pink'], alpha=1, legend = 'auto', linestyle = '-')\n",
    "sns.lineplot(df_H2.iloc[28800:,1:2], palette=['purple'], alpha=1, legend = 'auto')\n",
    "\n",
    "fig.set_axis_labels('Time (hours)', 'Glucose (mM)')\n",
    "fig.ax.set_xticks([28800,33601])\n",
    "fig.ax.set_yticks([-0.5,0,0.5,1,1.5,2])\n",
    "fig.ax.set_ylim(-0.5,2)\n",
    "fig.ax.set_xlim(28000,33601)\n",
    "fig.ax.set_xticklabels([0,48])\n",
    "xtix = fig.ax.get_xticks()\n",
    "fig.despine(trim=True)\n",
    "plt.tight_layout(w_pad=-0.1)\n",
    "\n",
    "legend_labels, _= fig.ax.get_legend_handles_labels()\n",
    "fig.ax.legend(legend_labels, ['$Glucose_{HG,H1} - Glucose_{NG,H1}$', '$Glucose_{HG,H2} - Glucose_{NG,H2}$'],bbox_to_anchor=(1.4, 0.9), loc='upper left', borderaxespad=0 )\n",
    "\n",
    "fig.savefig(os.path.join(figpath, \"supplementaryFig2.pdf\"))"
   ]
  }
 ],
 "metadata": {
  "kernelspec": {
   "display_name": "Python 3.9.13 ('manuscript_IR')",
   "language": "python",
   "name": "python3"
  },
  "language_info": {
   "codemirror_mode": {
    "name": "ipython",
    "version": 3
   },
   "file_extension": ".py",
   "mimetype": "text/x-python",
   "name": "python",
   "nbconvert_exporter": "python",
   "pygments_lexer": "ipython3",
   "version": "3.9.13"
  },
  "vscode": {
   "interpreter": {
    "hash": "4e23bbca6c60f71977a300b44dde33d94c5aad4c3527b6c550d67adc91be76ca"
   }
  }
 },
 "nbformat": 4,
 "nbformat_minor": 5
}
