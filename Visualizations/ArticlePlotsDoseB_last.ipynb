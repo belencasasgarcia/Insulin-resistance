{
 "cells": [
  {
   "cell_type": "code",
   "execution_count": 1,
   "id": "458b2a63",
   "metadata": {
    "scrolled": true
   },
   "outputs": [
    {
     "name": "stderr",
     "output_type": "stream",
     "text": [
      "/Users/belca27/opt/anaconda3/lib/python3.8/site-packages/IPython/core/interactiveshell.py:3165: DtypeWarning: Columns (14) have mixed types.Specify dtype option on import or set low_memory=False.\n",
      "  has_raised = await self.run_ast_nodes(code_ast.body, cell_name,\n"
     ]
    },
    {
     "name": "stdout",
     "output_type": "stream",
     "text": [
      "   time_total  time_GTT  Glucose_mean  Glucose_SEM  Insulin_mean  Insulin_SEM  \\\n",
      "0       288.0       0.0     11.166833     0.669874         21.50         2.78   \n",
      "1       312.0      24.0      7.984167     0.198015         12.53         3.00   \n",
      "2       336.0      48.0      7.980500     0.081506          7.07         3.05   \n",
      "3       359.9      71.9      6.414833     0.115875          3.72         3.49   \n",
      "4       288.0       0.0      9.997170     1.378520         21.53         2.78   \n",
      "5       312.0      24.0      8.081330     1.379140         12.81         3.00   \n",
      "6       336.0      48.0      7.082170     1.324510          7.04         3.15   \n",
      "7       359.9      71.9      6.383670     1.441720          3.43         3.23   \n",
      "\n",
      "   Glucose_diff_mean  Glucose_diff_SEM  Insulin   SEM Glycemic_level  \n",
      "0           1.169663         -0.708646    21.50  2.78  Hyperglycemia  \n",
      "1          -0.097163         -1.181125    12.53  3.00  Hyperglycemia  \n",
      "2           0.898330         -1.243004     7.07  3.05  Hyperglycemia  \n",
      "3           0.031163         -1.325845     3.72  3.49  Hyperglycemia  \n",
      "4                NaN               NaN    21.53  2.78  Normoglycemia  \n",
      "5                NaN               NaN    12.81  3.00  Normoglycemia  \n",
      "6                NaN               NaN     7.04  3.15  Normoglycemia  \n",
      "7                NaN               NaN     3.43  3.23  Normoglycemia  \n"
     ]
    }
   ],
   "source": [
    "import os\n",
    "import pandas as pd\n",
    "import matplotlib.pyplot as plt\n",
    "import numpy as np\n",
    "import seaborn as sns\n",
    "import patsy # to build design matrix\n",
    "import statsmodels.api as sm\n",
    "import matplotlib.patches as mpatches\n",
    "\n",
    "\n",
    "from paper_behavior_functions import (query_sessions_around_criterion,\n",
    "                                      seaborn_style, institution_map,\n",
    "                                      group_colors, figpath, EXAMPLE_MOUSE,\n",
    "                                      FIGURE_WIDTH, FIGURE_HEIGHT,\n",
    "                                      dj2pandas, plot_psychometric)\n",
    "from pylab import cm\n",
    "\n",
    "# Load some things from paper_behavior_functions\n",
    "figpath = figpath()\n",
    "seaborn_style()\n",
    "pal = group_colors()\n",
    "# Create an array with the colors we want to use\n",
    "colors = [[0.92,0.68,0.0353],[0.8,0,0.2]]\n",
    "colors1 = [[0.8,0,0.2], [0.92,0.68,0.0353]]\n",
    "\n",
    "# Set custom color palette\n",
    "customPalette = sns.set_palette(sns.color_palette(colors))\n",
    "\n",
    "\n",
    "customPalette1 = sns.set_palette(sns.color_palette(colors1))\n",
    "\n",
    "\n",
    "dataChip14 = pd.read_csv (r'ExperimentalDataChip14.csv')   #read the csv file (put 'r' before the path string to address any special characters in the path, such as '\\'). Don't forget to put the file name at the end of the path + \".csv\"\n",
    "simulationsChip14Hyper = pd.read_csv (r'SimulationsChip14Hyper.csv') \n",
    "simulationsChip14Normo = pd.read_csv (r'SimulationsChip14Normo.csv') \n",
    "predictionChip14DoseB = pd.read_csv (r'PredictionChip14doseB.csv')   #read the csv file (put 'r' before the path string to address any special characters in the path, such as '\\'). Don't forget to put the file name at the end of the path + \".csv\"\n",
    "predictionsChip14HyperDoseB = pd.read_csv (r'PredictionsChip14HyperDoseB.csv')   #read the csv file (put 'r' before the path string to address any special characters in the path, such as '\\'). Don't forget to put the file name at the end of the path + \".csv\"\n",
    "predictionsChip14NormoDoseB = pd.read_csv (r'PredictionsChip14NormoDoseB.csv')   #read the csv file (put 'r' before the path string to address any special characters in the\n",
    "predictionsChip14DifferenceDoseB = pd.read_csv (r'PredictionsChip14DifferenceDoseB.csv')   #read the csv file (put 'r' before the path string to address any special characters in the\n",
    "print(predictionChip14DoseB)\n"
   ]
  },
  {
   "cell_type": "code",
   "execution_count": 4,
   "id": "ea9fb8a5",
   "metadata": {
    "scrolled": true
   },
   "outputs": [
    {
     "data": {
      "image/png": "[encoded data removed]",
      "text/plain": [
       "<Figure size 96x144 with 1 Axes>"
      ]
     },
     "metadata": {},
     "output_type": "display_data"
    }
   ],
   "source": [
    "# Plot glucose prediction Hypothesis 1\n",
    "\n",
    "plt.close('all')\n",
    "\n",
    "fig = sns.FacetGrid(data=predictionChip14DoseB, \n",
    "                    hue=\"Glycemic_level\", palette=customPalette,\n",
    "                    sharex=True, sharey=True,\n",
    "                    height=FIGURE_HEIGHT, aspect=(FIGURE_WIDTH/6)/FIGURE_HEIGHT)\n",
    "\n",
    "fig.map(plt.errorbar, \"time_GTT\", \"Glucose_mean\", \"Glucose_SEM\", fmt='none', elinewidth=1, capsize=0.5, capthick=0.3,\n",
    "       alpha=0.5)\n",
    "sns.lineplot(data=predictionChip14DoseB[(predictionChip14DoseB['Glycemic_level'] == 'Hyperglycemia')],\n",
    "             x='time_GTT', y='Glucose_mean', marker='o', err_style='bars',\n",
    "             color=customPalette1, linewidth=0, ci=95, ax=fig.ax, legend=None, alpha=1)# \n",
    "sns.lineplot(data=predictionChip14DoseB[(predictionChip14DoseB['Glycemic_level'] == 'Normoglycemia')],\n",
    "             x='time_GTT', y='Glucose_mean', marker='o', err_style='bars',\n",
    "             color=customPalette, linewidth=0, ci=95, ax=fig.ax, legend=None, alpha=0.5)#                                         \n",
    "fig.ax.fill_between(data=predictionsChip14HyperDoseB, x='time_GTT', y1='H1_G_min', y2='H1_G_max', alpha=0.5, \n",
    "                    facecolor=colors[1])\n",
    "fig.ax.fill_between(data=predictionsChip14NormoDoseB, x='time_GTT', y1='H1_G_min', y2='H1_G_max', alpha=0.5, \n",
    "                    facecolor=colors[0])\n",
    "\n",
    "# Overlay shaded area to indicate prediction\n",
    "\n",
    "rect=mpatches.Rectangle((0,0),72,12, \n",
    "                        alpha=0.05,\n",
    "                        facecolor='green')\n",
    "\n",
    "plt.gca().add_patch(rect)\n",
    "\n",
    "plt.text(36, 12.5, 'GTT day 13-15', horizontalalignment = 'center', fontsize = 'x-small')\n",
    "\n",
    "fig.set_axis_labels('Time (hours)', 'Glucose (mM)')\n",
    "fig.ax.set_xticks([0,24,48,72])\n",
    "fig.ax.set_ylim(3,12)\n",
    "fig.despine(trim=True)\n",
    "plt.tight_layout(w_pad=-0.1)\n",
    "fig.savefig(os.path.join(figpath, \"predictionGlucoseH1doseB.pdf\"))\n",
    "\n"
   ]
  },
  {
   "cell_type": "code",
   "execution_count": 5,
   "id": "4542bf6f",
   "metadata": {},
   "outputs": [
    {
     "data": {
      "image/png": "[encoded data removed]",
      "text/plain": [
       "<Figure size 96x144 with 1 Axes>"
      ]
     },
     "metadata": {},
     "output_type": "display_data"
    }
   ],
   "source": [
    "# Plot glucose prediction Hypothesis 2\n",
    "\n",
    "plt.close('all')\n",
    "\n",
    "fig = sns.FacetGrid(data=predictionChip14DoseB, hue=\"Glycemic_level\", palette=customPalette,\n",
    "                    sharex=True, sharey=True,\n",
    "                    height=FIGURE_HEIGHT, aspect=(FIGURE_WIDTH/6)/FIGURE_HEIGHT)\n",
    "\n",
    "fig.map(plt.errorbar, \"time_GTT\", \"Glucose_mean\", \"Glucose_SEM\", fmt='none', elinewidth=1, capsize=0.5, capthick=0.3,\n",
    "       alpha=0.5)\n",
    "sns.lineplot(data=predictionChip14DoseB[(predictionChip14DoseB['Glycemic_level'] == 'Hyperglycemia')],\n",
    "             x='time_GTT', y='Glucose_mean', marker='o', err_style='bars',\n",
    "             color=customPalette1, linewidth=0, ci=95, ax=fig.ax, legend=None, alpha=1)# \n",
    "sns.lineplot(data=predictionChip14DoseB[(predictionChip14DoseB['Glycemic_level'] == 'Normoglycemia')],\n",
    "             x='time_GTT', y='Glucose_mean', marker='o', err_style='bars',\n",
    "             color=customPalette, linewidth=0, ci=95, ax=fig.ax, legend=None, alpha=0.5)#     \n",
    "fig.ax.fill_between(data=predictionsChip14HyperDoseB, x='time_GTT', y1='H2_G_min', y2='H2_G_max', alpha=0.5, \n",
    "                    facecolor=colors[1])\n",
    "fig.ax.fill_between(data=predictionsChip14NormoDoseB, x='time_GTT', y1='H2_G_min', y2='H2_G_max', alpha=0.5, \n",
    "                    facecolor=colors[0])\n",
    "\n",
    "rect=mpatches.Rectangle((0,0),72,12, \n",
    "                        alpha=0.05,\n",
    "                        facecolor='green')\n",
    "\n",
    "plt.text(36, 12.5, 'GTT day 13-15', horizontalalignment = 'center', fontsize = 'x-small')\n",
    "\n",
    "plt.gca().add_patch(rect)\n",
    "\n",
    "fig.set_axis_labels('Time (hours)', 'Glucose (mM)')\n",
    "fig.ax.set_xticks([0,24,48,72])\n",
    "fig.ax.set_yticks([4,6,8,10,12])\n",
    "fig.ax.set_ylim(3,12)\n",
    "fig.despine(trim=True)\n",
    "plt.tight_layout(w_pad=-0.1)\n",
    "fig.savefig(os.path.join(figpath, \"predictionGlucoseH2doseB.pdf\"))\n"
   ]
  },
  {
   "cell_type": "code",
   "execution_count": 7,
   "id": "90dd9f74",
   "metadata": {
    "scrolled": false
   },
   "outputs": [
    {
     "data": {
      "image/png": "[encoded data removed]",
      "text/plain": [
       "<Figure size 96x144 with 1 Axes>"
      ]
     },
     "metadata": {},
     "output_type": "display_data"
    }
   ],
   "source": [
    "# Plot insulin prediction Hypothesis 1\n",
    "\n",
    "plt.close('all')\n",
    "\n",
    "fig = sns.FacetGrid(data=predictionChip14DoseB, hue=\"Glycemic_level\", palette=customPalette1,\n",
    "                    sharex=True, sharey=True,\n",
    "                    height=FIGURE_HEIGHT, aspect=(FIGURE_WIDTH/6)/FIGURE_HEIGHT)\n",
    "\n",
    "#fig.map(plt.errorbar, \"time_total\", \"Glucose_mean\", \"Glucose_SEM\", fmt='none')\n",
    "fig.map(plt.errorbar, \"time_GTT\", \"Insulin_mean\", \"Insulin_SEM\", fmt='none', elinewidth=1, capsize=0.5, capthick=0.3,\n",
    "       alpha=0.5)\n",
    "sns.lineplot(data=predictionChip14DoseB[(predictionChip14DoseB['Glycemic_level'] == 'Hyperglycemia')],\n",
    "             x='time_GTT', y='Insulin_mean', marker='o', err_style='bars',\n",
    "             color=customPalette1, linewidth=0, ci=95, ax=fig.ax, legend=None, alpha=1)# overlay the simulated\n",
    "sns.lineplot(data=predictionChip14DoseB[(predictionChip14DoseB['Glycemic_level'] == 'Normoglycemia')],\n",
    "             x='time_GTT', y='Insulin_mean', marker='o', err_style='bars',\n",
    "             color=customPalette, linewidth=0, ci=95, ax=fig.ax, legend=None, alpha=0.5)# overlay the simulated\n",
    "fig.ax.fill_between(data=predictionsChip14HyperDoseB, x='time_GTT', y1='H1_I_min_nM', y2='H1_I_max_nM', alpha=0.5, \n",
    "                    facecolor=colors[1])\n",
    "fig.ax.fill_between(data=predictionsChip14NormoDoseB, x='time_GTT', y1='H1_I_min_nM', y2='H1_I_max_nM', alpha=0.5, \n",
    "                    facecolor=colors[0])\n",
    "\n",
    "rect=mpatches.Rectangle((0,0),72,25, \n",
    "                        alpha=0.05,\n",
    "                        facecolor='green')\n",
    "plt.gca().add_patch(rect)\n",
    "\n",
    "plt.text(36, 26, 'GTT day 13-15', horizontalalignment = 'center', fontsize = 'x-small')\n",
    "\n",
    "fig.set_axis_labels('Time (hours)', 'Insulin (nM)')\n",
    "fig.ax.set_xticks([0,24,48,72])\n",
    "#fig.ax.set_xlim(280,370)\n",
    "fig.despine(trim=True)\n",
    "plt.tight_layout(w_pad=-0.1)\n",
    "fig.savefig(os.path.join(figpath, \"predictionInsulinH1doseB.pdf\"))\n"
   ]
  },
  {
   "cell_type": "code",
   "execution_count": 8,
   "id": "8a948377",
   "metadata": {},
   "outputs": [
    {
     "data": {
      "image/png": "[encoded data removed]",
      "text/plain": [
       "<Figure size 96x144 with 1 Axes>"
      ]
     },
     "metadata": {},
     "output_type": "display_data"
    }
   ],
   "source": [
    "# Plot insulin prediction Hypothesis 1\n",
    "\n",
    "plt.close('all')\n",
    "\n",
    "fig = sns.FacetGrid(data=predictionChip14DoseB, hue=\"Glycemic_level\", palette=customPalette,\n",
    "                    sharex=True, sharey=True,\n",
    "                    height=FIGURE_HEIGHT, aspect=(FIGURE_WIDTH/6)/FIGURE_HEIGHT)\n",
    "\n",
    "#fig.map(plt.errorbar, \"time_total\", \"Glucose_mean\", \"Glucose_SEM\", fmt='none')\n",
    "fig.map(plt.errorbar, \"time_GTT\", \"Insulin_mean\", \"Insulin_SEM\", fmt='none', elinewidth=1, capsize=0.5, capthick=0.3)\n",
    "sns.lineplot(data=predictionChip14DoseB[(predictionChip14DoseB['Glycemic_level'] == 'Hyperglycemia')],\n",
    "             x='time_GTT', y='Insulin_mean', marker='o', err_style='bars',\n",
    "             color=customPalette1, linewidth=0, ci=95, ax=fig.ax, legend=None, alpha=1)# overlay the simulated\n",
    "sns.lineplot(data=predictionChip14DoseB[(predictionChip14DoseB['Glycemic_level'] == 'Normoglycemia')],\n",
    "             x='time_GTT', y='Insulin_mean', marker='o', err_style='bars',\n",
    "             color=customPalette, linewidth=0, ci=95, ax=fig.ax, legend=None, alpha=0.5)# overlay the simulated\n",
    "fig.ax.fill_between(data=predictionsChip14HyperDoseB, x='time_GTT', y1='H2_I_min_nM', y2='H2_I_max_nM', alpha=0.5, \n",
    "                    facecolor=colors[1])\n",
    "fig.ax.fill_between(data=predictionsChip14NormoDoseB, x='time_GTT', y1='H2_I_min_nM', y2='H2_I_max_nM', alpha=0.5, \n",
    "                    facecolor=colors[0])\n",
    "\n",
    "rect=mpatches.Rectangle((0,0),72,25, \n",
    "                        alpha=0.05,\n",
    "                        facecolor='green')\n",
    "plt.gca().add_patch(rect)\n",
    "\n",
    "plt.text(36, 26, 'GTT day 13-15', horizontalalignment = 'center', fontsize = 'x-small')\n",
    "\n",
    "fig.set_axis_labels('Time (hours)', 'Insulin (nM)')\n",
    "fig.ax.set_xticks([0,24,48,72])\n",
    "#fig.ax.set_xlim(280,370)\n",
    "fig.despine(trim=True)\n",
    "plt.tight_layout(w_pad=-0.1)\n",
    "fig.savefig(os.path.join(figpath, \"predictionInsulinH2doseB.pdf\"))"
   ]
  },
  {
   "cell_type": "code",
   "execution_count": 4,
   "id": "f51f0f79",
   "metadata": {
    "scrolled": true
   },
   "outputs": [
    {
     "name": "stderr",
     "output_type": "stream",
     "text": [
      "/Users/belca27/opt/anaconda3/lib/python3.8/site-packages/numpy/core/_asarray.py:102: UserWarning: Warning: converting a masked element to nan.\n",
      "  return array(a, dtype, copy=False, order=order)\n"
     ]
    },
    {
     "data": {
      "image/png": "[encoded data removed]",
      "text/plain": [
       "<Figure size 96x144 with 1 Axes>"
      ]
     },
     "metadata": {},
     "output_type": "display_data"
    }
   ],
   "source": [
    "# Plot glucose difference prediction Hypothesis 1\n",
    "\n",
    "plt.close('all')\n",
    "\n",
    "fig = sns.FacetGrid(data=predictionChip14DoseB, hue=\"Glycemic_level\", palette=customPalette,\n",
    "                    sharex=True, sharey=True,\n",
    "                    height=FIGURE_HEIGHT, aspect=(FIGURE_WIDTH/6)/FIGURE_HEIGHT)\n",
    "\n",
    "#fig.map(plt.errorbar, \"time_total\", \"Glucose_mean\", \"Glucose_SEM\", fmt='none')\n",
    "fig.map(plt.errorbar, \"time_GTT\", \"Glucose_diff_mean\", \"Glucose_diff_SEM\", fmt='none', elinewidth=1, capsize=0.5, capthick=0.3)\n",
    "sns.lineplot(data=predictionChip14DoseB,\n",
    "             x='time_GTT', y='Glucose_diff_mean', hue=\"Glycemic_level\", marker='o', err_style='bars',\n",
    "             color=customPalette, linewidth=0, ci=95, ax=fig.ax, legend=None)# overlay the simulated\n",
    "fig.ax.fill_between(data=predictionsChip14DifferenceDoseB, x='time_GTT', y1='H1_G_diff_min', y2='H1_G_diff_max', alpha=0.3, \n",
    "                    facecolor=colors[0])\n",
    "\n",
    "fig.set_axis_labels('Time (hours)', '\\u0394 Glucose (mM)')\n",
    "fig.ax.set_xticks([0,24,48,72])\n",
    "fig.ax.set_ylim(-3,4)\n",
    "fig.despine(trim=True)\n",
    "plt.tight_layout(w_pad=-0.1)\n",
    "fig.savefig(os.path.join(figpath, \"predictionGlucoseDiffH1doseB.pdf\"))"
   ]
  },
  {
   "cell_type": "code",
   "execution_count": 3,
   "id": "da7445a2",
   "metadata": {},
   "outputs": [
    {
     "name": "stderr",
     "output_type": "stream",
     "text": [
      "/Users/belca27/opt/anaconda3/lib/python3.8/site-packages/numpy/core/_asarray.py:102: UserWarning: Warning: converting a masked element to nan.\n",
      "  return array(a, dtype, copy=False, order=order)\n"
     ]
    },
    {
     "data": {
      "image/png": "[encoded data removed]",
      "text/plain": [
       "<Figure size 96x144 with 1 Axes>"
      ]
     },
     "metadata": {},
     "output_type": "display_data"
    }
   ],
   "source": [
    "# Plot glucose difference prediction Hypothesis 1\n",
    "\n",
    "plt.close('all')\n",
    "\n",
    "fig = sns.FacetGrid(data=predictionChip14DoseB, hue=\"Glycemic_level\", palette=customPalette,\n",
    "                    sharex=True, sharey=True,\n",
    "                    height=FIGURE_HEIGHT, aspect=(FIGURE_WIDTH/6)/FIGURE_HEIGHT)\n",
    "\n",
    "#fig.map(plt.errorbar, \"time_total\", \"Glucose_mean\", \"Glucose_SEM\", fmt='none')\n",
    "fig.map(plt.errorbar, \"time_GTT\", \"Glucose_diff_mean\", \"Glucose_diff_SEM\", fmt='none', elinewidth=1, capsize=0.5, capthick=0.3)\n",
    "sns.lineplot(data=predictionChip14DoseB,\n",
    "             x='time_GTT', y='Glucose_diff_mean', hue=\"Glycemic_level\", marker='o', err_style='bars',\n",
    "             color=customPalette, linewidth=0, ci=95, ax=fig.ax, legend=None)# overlay the simulated\n",
    "fig.ax.fill_between(data=predictionsChip14DifferenceDoseB, x='time_GTT', y1='H2_G_diff_min', y2='H2_G_diff_max', alpha=0.3, \n",
    "                    facecolor=colors[0])\n",
    "\n",
    "fig.set_axis_labels('Time (hours)', '\\u0394 Glucose (mM)')\n",
    "fig.ax.set_xticks([0,24,48,72])\n",
    "fig.ax.set_ylim(-3,4)\n",
    "fig.despine(trim=True)\n",
    "plt.tight_layout(w_pad=-0.1)\n",
    "fig.savefig(os.path.join(figpath, \"predictionGlucoseDiffH2doseB.pdf\"))"
   ]
  },
  {
   "cell_type": "code",
   "execution_count": null,
   "id": "13e4f089",
   "metadata": {},
   "outputs": [],
   "source": []
  },
  {
   "cell_type": "code",
   "execution_count": null,
   "id": "3b85638f",
   "metadata": {},
   "outputs": [],
   "source": []
  }
 ],
 "metadata": {
  "kernelspec": {
   "display_name": "Python 3.9.13 ('base')",
   "language": "python",
   "name": "python3"
  },
  "language_info": {
   "codemirror_mode": {
    "name": "ipython",
    "version": 3
   },
   "file_extension": ".py",
   "mimetype": "text/x-python",
   "name": "python",
   "nbconvert_exporter": "python",
   "pygments_lexer": "ipython3",
   "version": "3.9.13"
  },
  "vscode": {
   "interpreter": {
    "hash": "953554c9dad659e43b736089a1fd9b2019ed33b0939a53047b15a27993976a6d"
   }
  }
 },
 "nbformat": 4,
 "nbformat_minor": 5
}
