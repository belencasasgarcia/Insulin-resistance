{
 "cells": [
  {
   "cell_type": "code",
   "execution_count": 2,
   "id": "458b2a63",
   "metadata": {},
   "outputs": [
    {
     "ename": "ImportError",
     "evalue": "cannot import name 'query_sessions_around_criterion' from 'paper_behavior_functions' (/Users/belen/Documents/Postdoc/Manuscripts/Insulin resistance/IR manuscript/Python codes/paper_behavior_functions.py)",
     "output_type": "error",
     "traceback": [
      "\u001b[0;31m---------------------------------------------------------------------------\u001b[0m",
      "\u001b[0;31mImportError\u001b[0m                               Traceback (most recent call last)",
      "Cell \u001b[0;32mIn [2], line 10\u001b[0m\n\u001b[1;32m      7\u001b[0m \u001b[39mimport\u001b[39;00m \u001b[39mstatsmodels\u001b[39;00m\u001b[39m.\u001b[39;00m\u001b[39mapi\u001b[39;00m \u001b[39mas\u001b[39;00m \u001b[39msm\u001b[39;00m\n\u001b[1;32m      8\u001b[0m \u001b[39mimport\u001b[39;00m \u001b[39mmatplotlib\u001b[39;00m\u001b[39m.\u001b[39;00m\u001b[39mpatches\u001b[39;00m \u001b[39mas\u001b[39;00m \u001b[39mmpatches\u001b[39;00m\n\u001b[0;32m---> 10\u001b[0m \u001b[39mfrom\u001b[39;00m \u001b[39mpaper_behavior_functions\u001b[39;00m \u001b[39mimport\u001b[39;00m (query_sessions_around_criterion,\n\u001b[1;32m     11\u001b[0m                                       seaborn_style, institution_map,\n\u001b[1;32m     12\u001b[0m                                       group_colors, figpath, EXAMPLE_MOUSE,\n\u001b[1;32m     13\u001b[0m                                       FIGURE_WIDTH, FIGURE_HEIGHT,\n\u001b[1;32m     14\u001b[0m                                       dj2pandas, plot_psychometric)\n\u001b[1;32m     15\u001b[0m \u001b[39mfrom\u001b[39;00m \u001b[39mpylab\u001b[39;00m \u001b[39mimport\u001b[39;00m cm\n\u001b[1;32m     17\u001b[0m \u001b[39m# Load some things from paper_behavior_functions\u001b[39;00m\n",
      "\u001b[0;31mImportError\u001b[0m: cannot import name 'query_sessions_around_criterion' from 'paper_behavior_functions' (/Users/belen/Documents/Postdoc/Manuscripts/Insulin resistance/IR manuscript/Python codes/paper_behavior_functions.py)"
     ]
    }
   ],
   "source": [
    "import os\n",
    "import pandas as pd\n",
    "import matplotlib.pyplot as plt\n",
    "import numpy as np\n",
    "import seaborn as sns\n",
    "import patsy # to build design matrix\n",
    "import statsmodels.api as sm\n",
    "import matplotlib.patches as mpatches\n",
    "\n",
    "from paper_behavior_functions import (query_sessions_around_criterion,\n",
    "                                      seaborn_style, institution_map,\n",
    "                                      group_colors, figpath, EXAMPLE_MOUSE,\n",
    "                                      FIGURE_WIDTH, FIGURE_HEIGHT,\n",
    "                                      dj2pandas, plot_psychometric)\n",
    "from pylab import cm\n",
    "\n",
    "# Load some things from paper_behavior_functions\n",
    "figpath = figpath()\n",
    "seaborn_style()\n",
    "pal = group_colors()\n",
    "# Create an array with the colors you want to use\n",
    "colors = [[0.8,0,0.2], [0.92,0.68,0.0353]]\n",
    "# Set your custom color palette\n",
    "customPalette = sns.set_palette(sns.color_palette(colors))\n",
    "\n",
    "dataChip14 = pd.read_csv (r'ExperimentalDataChip14.csv')   #read the csv file (put 'r' before the path string to address any special characters in the path, such as '\\'). Don't forget to put the file name at the end of the path + \".csv\"\n",
    "print (dataChip14)\n",
    "simulationsChip14Hyper = pd.read_csv (r'SimulationsChip14Hyper.csv') \n",
    "simulationsChip14Normo = pd.read_csv (r'SimulationsChip14Normo.csv') \n",
    "predictionChip14 = pd.read_csv (r'PredictionChip14.csv')   #read the csv file (put 'r' before the path string to address any special characters in the path, such as '\\'). Don't forget to put the file name at the end of the path + \".csv\"\n",
    "print (predictionChip14)\n",
    "predictionsChip14Hyper = pd.read_csv (r'PredictionsChip14Hyper.csv')   #read the csv file (put 'r' before the path string to address any special characters in the path, such as '\\'). Don't forget to put the file name at the end of the path + \".csv\"\n",
    "predictionsChip14Normo = pd.read_csv (r'PredictionsChip14Normo.csv')   #read the csv file (put 'r' before the path string to address any special characters in the"
   ]
  },
  {
   "cell_type": "code",
   "execution_count": 30,
   "id": "4b822775",
   "metadata": {
    "scrolled": false
   },
   "outputs": [
    {
     "data": {
      "image/png": "[encoded data removed]",
      "text/plain": [
       "<Figure size 144x144 with 1 Axes>"
      ]
     },
     "metadata": {},
     "output_type": "display_data"
    }
   ],
   "source": [
    "# Plot glucose Hypothesis 1\n",
    "\n",
    "plt.close('all')\n",
    "\n",
    "fig = sns.FacetGrid(data=dataChip14, hue=\"Glycemic_level\", palette=customPalette,\n",
    "                    sharex=True, sharey=True,\n",
    "                    height=FIGURE_HEIGHT, aspect=(FIGURE_WIDTH/4)/FIGURE_HEIGHT)\n",
    "\n",
    "#fig.map(plt.errorbar, \"time_total\", \"Glucose_mean\", \"Glucose_SEM\", fmt='none')\n",
    "fig.map(plt.errorbar, \"time_total\", \"Glucose_mean\", \"Glucose_SEM\", fmt='none', elinewidth=1, capsize=0.5, capthick=0.3)\n",
    "sns.lineplot(data=dataChip14,\n",
    "             x='time_total', y='Glucose_mean', hue=\"Glycemic_level\", marker='o', err_style='bars',\n",
    "             color=customPalette, linewidth=0, ci=95, ax=fig.ax, legend=None)# overlay the simulated\n",
    "\n",
    "fig.ax.fill_between(data=simulationsChip14Hyper, x='time_total', y1='H1_G_min', y2='H1_G_max', alpha=0.5, \n",
    "                    facecolor=colors[0])\n",
    "\n",
    "fig.ax.fill_between(data=simulationsChip14Normo, x='time_total', y1='H1_G_min', y2='H1_G_max', alpha=0.5, \n",
    "                    facecolor=colors[1])\n",
    "\n",
    "sns.lineplot(data=simulationsChip14Hyper,\n",
    "             x='time_total', y='H1_G_opt', color=colors[0], linewidth=0.5, ax=fig.ax, legend=None)# overlay the simulated\n",
    "\n",
    "sns.lineplot(data=simulationsChip14Normo,\n",
    "             x='time_total', y='H1_G_opt', color=colors[1], linewidth=0.5, ax=fig.ax, legend=None)# overlay the simulated\n",
    "\n",
    "\n",
    "rect1=mpatches.Rectangle((0,0),48,12, \n",
    "                        alpha=0.07,\n",
    "                        facecolor='blue')\n",
    "plt.gca().add_patch(rect1)\n",
    "\n",
    "rect1=mpatches.Rectangle((144,0),48,12, \n",
    "                        alpha=0.07,\n",
    "                        facecolor='blue')\n",
    "plt.gca().add_patch(rect1)\n",
    "\n",
    "# Add text to identify the GTTs\n",
    "\n",
    "plt.text(24, 12.5, 'GTT day 1-3', horizontalalignment = 'center', fontsize = 'x-small')\n",
    "plt.text(168, 12.5, 'GTT day 7-9', horizontalalignment = 'center', fontsize = 'x-small')\n",
    "\n",
    "\n",
    "#plt.text(96, 14, 'H1:Calibration',\n",
    "#         horizontalalignment='center',\n",
    "#         fontsize=10)\n",
    "\n",
    "fig.set_axis_labels('Time (days)', 'Glucose (mM)')\n",
    "fig.ax.set_xticks([0,48,96,144,192])\n",
    "fig.ax.set_ylim(3,12)\n",
    "fig.ax.set_xticklabels(['1','3','5','7','9'])\n",
    "fig.despine(trim=True)\n",
    "plt.tight_layout(w_pad=-0.1)\n",
    "fig.savefig(os.path.join(figpath, \"GlucoseH1.pdf\"))\n"
   ]
  },
  {
   "cell_type": "code",
   "execution_count": 36,
   "id": "acacfcab",
   "metadata": {},
   "outputs": [
    {
     "data": {
      "image/png": "[encoded data removed]",
      "text/plain": [
       "<Figure size 144x144 with 1 Axes>"
      ]
     },
     "metadata": {},
     "output_type": "display_data"
    }
   ],
   "source": [
    "# Plot insulin Hypothesis 1\n",
    "\n",
    "plt.close('all')\n",
    "\n",
    "fig = sns.FacetGrid(data=dataChip14, hue=\"Glycemic_level\", palette=customPalette,\n",
    "                    sharex=True, sharey=True,\n",
    "                    height=FIGURE_HEIGHT, aspect=(FIGURE_WIDTH/4)/FIGURE_HEIGHT)\n",
    "\n",
    "#fig.map(plt.errorbar, \"time_total\", \"Glucose_mean\", \"Glucose_SEM\", fmt='none')\n",
    "fig.map(plt.errorbar, \"time_total\", \"Insulin_mean\", \"Insulin_SEM\", fmt='none', elinewidth=1, capsize=0.5, capthick=0.3)\n",
    "sns.lineplot(data=dataChip14,\n",
    "             x='time_total', y='Insulin_mean', hue=\"Glycemic_level\", marker='o', err_style='bars',\n",
    "             color=customPalette, linewidth=0, ci=95, ax=fig.ax, legend=None)# overlay the simulated\n",
    "\n",
    "\n",
    "fig.ax.fill_between(data=simulationsChip14Hyper, x='time_total', y1='H1_I_min', y2='H1_I_max', alpha=0.5, \n",
    "                    facecolor=colors[0])\n",
    "\n",
    "fig.ax.fill_between(data=simulationsChip14Normo, x='time_total', y1='H1_I_min', y2='H1_I_max', alpha=0.5, \n",
    "                    facecolor=colors[1])\n",
    "    \n",
    "sns.lineplot(data=simulationsChip14Hyper,\n",
    "             x='time_total', y='H1_I_opt', color=colors[0], linewidth=0.5, ax=fig.ax, legend=None)#over\n",
    "\n",
    "sns.lineplot(data=simulationsChip14Normo,\n",
    "             x='time_total', y='H1_I_opt', color=colors[1], linewidth=0.5, ax=fig.ax, legend=None)#over\n",
    "\n",
    "rect1=mpatches.Rectangle((0,0),48,9, \n",
    "                        alpha=0.07,\n",
    "                        facecolor='blue')\n",
    "plt.gca().add_patch(rect1)\n",
    "\n",
    "rect1=mpatches.Rectangle((144,0),48,9, \n",
    "                        alpha=0.07,\n",
    "                        facecolor='blue')\n",
    "\n",
    "plt.text(24, 9.5, 'GTT day 1-3', horizontalalignment = 'center', fontsize = 'x-small')\n",
    "plt.text(168, 9.5, 'GTT day 7-9', horizontalalignment = 'center', fontsize = 'x-small')\n",
    "\n",
    "plt.gca().add_patch(rect1)\n",
    "\n",
    "fig.set_axis_labels('Time (days)', 'Insulin (nM)')\n",
    "fig.ax.set_xticks([0,48,96,144,192])\n",
    "fig.ax.set_xticklabels(['1','3','5','7','9'])\n",
    "fig.despine(trim=True)\n",
    "plt.tight_layout(w_pad=-0.1)\n",
    "fig.savefig(os.path.join(figpath, \"InsulinH1.pdf\"))"
   ]
  },
  {
   "cell_type": "code",
   "execution_count": 38,
   "id": "cb6b11f3",
   "metadata": {},
   "outputs": [
    {
     "data": {
      "image/png": "[encoded data removed]",
      "text/plain": [
       "<Figure size 144x144 with 1 Axes>"
      ]
     },
     "metadata": {},
     "output_type": "display_data"
    }
   ],
   "source": [
    "# Plot glucose Hypothesis 2\n",
    "\n",
    "plt.close('all')\n",
    "\n",
    "fig = sns.FacetGrid(data=dataChip14, hue=\"Glycemic_level\", palette=customPalette,\n",
    "                    sharex=True, sharey=True,\n",
    "                    height=FIGURE_HEIGHT, aspect=(FIGURE_WIDTH/4)/FIGURE_HEIGHT)\n",
    "\n",
    "#fig.map(plt.errorbar, \"time_total\", \"Glucose_mean\", \"Glucose_SEM\", fmt='none')\n",
    "fig.map(plt.errorbar, \"time_total\", \"Glucose_mean\", \"Glucose_SEM\", fmt='none', elinewidth=1, capsize=0.5, capthick=0.3)\n",
    "sns.lineplot(data=dataChip14,\n",
    "             x='time_total', y='Glucose_mean', hue=\"Glycemic_level\", marker='o', err_style='bars',\n",
    "             color=customPalette, linewidth=0, ci=95, ax=fig.ax, legend=None)# overlay the simulated\n",
    "\n",
    "fig.ax.fill_between(data=simulationsChip14Hyper, x='time_total', y1='H2_G_min', y2='H2_G_max', alpha=0.5, \n",
    "                    facecolor=colors[0])\n",
    "\n",
    "fig.ax.fill_between(data=simulationsChip14Normo, x='time_total', y1='H2_G_min', y2='H2_G_max', alpha=0.5, \n",
    "                    facecolor=colors[1])\n",
    "\n",
    "sns.lineplot(data=simulationsChip14Hyper,\n",
    "             x='time_total', y='H2_G_opt', color=colors[0], linewidth=0.5, ax=fig.ax, legend=None)# overlay the simulated\n",
    "\n",
    "sns.lineplot(data=simulationsChip14Normo,\n",
    "             x='time_total', y='H2_G_opt', color=colors[1], linewidth=0.5, ax=fig.ax, legend=None)# overlay the simulated\n",
    "\n",
    "rect1=mpatches.Rectangle((0,0),48,12, \n",
    "                        alpha=0.07,\n",
    "                        facecolor='blue')\n",
    "plt.gca().add_patch(rect1)\n",
    "\n",
    "rect1=mpatches.Rectangle((144,0),48,12, \n",
    "                        alpha=0.07,\n",
    "                        facecolor='blue')\n",
    "\n",
    "plt.text(24, 12.5, 'GTT day 1-3', horizontalalignment = 'center', fontsize = 'x-small')\n",
    "plt.text(168, 12.5, 'GTT day 7-9', horizontalalignment = 'center', fontsize = 'x-small')\n",
    "\n",
    "plt.gca().add_patch(rect1)\n",
    "\n",
    "fig.set_axis_labels('Time (days)', 'Glucose (mM)')\n",
    "fig.ax.set_xticks([0,48,96,144,192])\n",
    "fig.ax.set_xticklabels(['1','3','5','7','9'])\n",
    "fig.ax.set_ylim(3,12)\n",
    "fig.despine(trim=True)\n",
    "plt.tight_layout(w_pad=-0.1)\n",
    "fig.savefig(os.path.join(figpath, \"GlucoseH2.pdf\"))"
   ]
  },
  {
   "cell_type": "code",
   "execution_count": 42,
   "id": "d8809fb8",
   "metadata": {},
   "outputs": [
    {
     "data": {
      "image/png": "[encoded data removed]",
      "text/plain": [
       "<Figure size 144x144 with 1 Axes>"
      ]
     },
     "metadata": {},
     "output_type": "display_data"
    }
   ],
   "source": [
    "# Plot insulin Hypothesis 1\n",
    "\n",
    "plt.close('all')\n",
    "\n",
    "fig = sns.FacetGrid(data=dataChip14, hue=\"Glycemic_level\", palette=customPalette,\n",
    "                    sharex=True, sharey=True,\n",
    "                    height=FIGURE_HEIGHT, aspect=(FIGURE_WIDTH/4)/FIGURE_HEIGHT)\n",
    "\n",
    "#fig.map(plt.errorbar, \"time_total\", \"Glucose_mean\", \"Glucose_SEM\", fmt='none')\n",
    "fig.map(plt.errorbar, \"time_total\", \"Insulin_mean\", \"Insulin_SEM\", fmt='none', elinewidth=1, capsize=0.5, capthick=0.3)\n",
    "sns.lineplot(data=dataChip14,\n",
    "             x='time_total', y='Insulin_mean', hue=\"Glycemic_level\", marker='o', err_style='bars',\n",
    "             color=customPalette, linewidth=0, ci=95, ax=fig.ax, legend=None)# overlay the simulated\n",
    "\n",
    "\n",
    "fig.ax.fill_between(data=simulationsChip14Hyper, x='time_total', y1='H2_I_min', y2='H2_I_max', alpha=0.5, \n",
    "                    facecolor=colors[0])\n",
    "\n",
    "fig.ax.fill_between(data=simulationsChip14Normo, x='time_total', y1='H2_I_min', y2='H2_I_max', alpha=0.5, \n",
    "                    facecolor=colors[1])\n",
    "    \n",
    "sns.lineplot(data=simulationsChip14Hyper,\n",
    "             x='time_total', y='H2_I_opt', color=colors[0], linewidth=0.5, ax=fig.ax, legend=None)#over\n",
    "\n",
    "sns.lineplot(data=simulationsChip14Normo,\n",
    "             x='time_total', y='H2_I_opt', color=colors[1], linewidth=0.5, ax=fig.ax, legend=None)#over\n",
    "\n",
    "rect1=mpatches.Rectangle((0,0),48,9, \n",
    "                        alpha=0.07,\n",
    "                        facecolor='blue')\n",
    "plt.gca().add_patch(rect1)\n",
    "\n",
    "rect1=mpatches.Rectangle((144,0),48,9, \n",
    "                        alpha=0.07,\n",
    "                        facecolor='blue')\n",
    "plt.gca().add_patch(rect1)\n",
    "\n",
    "plt.text(24, 9.5, 'GTT day 1-3', horizontalalignment = 'center', fontsize = 'x-small')\n",
    "plt.text(168, 9.5, 'GTT day 7-9', horizontalalignment = 'center', fontsize = 'x-small')\n",
    "\n",
    "\n",
    "fig.set_axis_labels('Time (days)', 'Insulin (nM)')\n",
    "fig.ax.set_xticks([0,48,96,144,192])\n",
    "fig.ax.set_yticks([0,2,4,6,8])\n",
    "fig.ax.set_xticklabels(['1','3','5','7','9'])\n",
    "fig.despine(trim=True)\n",
    "plt.tight_layout(w_pad=-0.1)\n",
    "fig.savefig(os.path.join(figpath, \"InsulinH2.pdf\"))"
   ]
  },
  {
   "cell_type": "code",
   "execution_count": 8,
   "id": "ea9fb8a5",
   "metadata": {},
   "outputs": [
    {
     "data": {
      "image/png": "[encoded data removed]",
      "text/plain": [
       "<Figure size 96x144 with 1 Axes>"
      ]
     },
     "metadata": {},
     "output_type": "display_data"
    }
   ],
   "source": [
    "# Plot glucose prediction Hypothesis 1 and dose A\n",
    "\n",
    "plt.close('all')\n",
    "\n",
    "fig = sns.FacetGrid(data=predictionChip14, hue=\"Glycemic_level\", palette=customPalette,\n",
    "                    sharex=True, sharey=True,\n",
    "                    height=FIGURE_HEIGHT, aspect=(FIGURE_WIDTH/6)/FIGURE_HEIGHT)\n",
    "\n",
    "#fig.map(plt.errorbar, \"time_total\", \"Glucose_mean\", \"Glucose_SEM\", fmt='none')\n",
    "fig.map(plt.errorbar, \"time_total\", \"Glucose_mean\", \"Glucose_SEM\", fmt='none', elinewidth=1, capsize=0.5, capthick=0.3)\n",
    "sns.lineplot(data=predictionChip14,\n",
    "             x='time_total', y='Glucose_mean', hue=\"Glycemic_level\", marker='o', err_style='bars',\n",
    "             color=customPalette, linewidth=0, ci=95, ax=fig.ax, legend=None)# overlay the simulated\n",
    "fig.ax.fill_between(data=predictionsChip14Hyper, x='time_total', y1='H1_G_min', y2='H1_G_max', alpha=0.5, \n",
    "                    facecolor=colors[0])\n",
    "fig.ax.fill_between(data=predictionsChip14Normo, x='time_total', y1='H1_G_min', y2='H1_G_max', alpha=0.5, \n",
    "                    facecolor=colors[1])\n",
    "\n",
    "fig.set_axis_labels('Time (hours)', 'Glucose (mM)')\n",
    "fig.ax.set_xticks([288,312,336])\n",
    "fig.ax.set_xlim(280,340)\n",
    "fig.despine(trim=True)\n",
    "plt.tight_layout(w_pad=-0.1)\n",
    "fig.savefig(os.path.join(figpath, \"predictionGlucoseH1.pdf\"))\n",
    "\n"
   ]
  },
  {
   "cell_type": "code",
   "execution_count": 9,
   "id": "4542bf6f",
   "metadata": {},
   "outputs": [
    {
     "data": {
      "image/png": "[encoded data removed]",
      "text/plain": [
       "<Figure size 96x144 with 1 Axes>"
      ]
     },
     "metadata": {},
     "output_type": "display_data"
    }
   ],
   "source": [
    "# Plot glucose prediction Hypothesis 2\n",
    "\n",
    "plt.close('all')\n",
    "\n",
    "fig = sns.FacetGrid(data=predictionChip14, hue=\"Glycemic_level\", palette=customPalette,\n",
    "                    sharex=True, sharey=True,\n",
    "                    height=FIGURE_HEIGHT, aspect=(FIGURE_WIDTH/6)/FIGURE_HEIGHT)\n",
    "\n",
    "#fig.map(plt.errorbar, \"time_total\", \"Glucose_mean\", \"Glucose_SEM\", fmt='none')\n",
    "fig.map(plt.errorbar, \"time_total\", \"Glucose_mean\", \"Glucose_SEM\", fmt='none', elinewidth=1, capsize=0.5, capthick=0.3)\n",
    "sns.lineplot(data=predictionChip14,\n",
    "             x='time_total', y='Glucose_mean', hue=\"Glycemic_level\", marker='o', err_style='bars',\n",
    "             color=customPalette, linewidth=0, ci=95, ax=fig.ax, legend=None)# overlay the simulated\n",
    "fig.ax.fill_between(data=predictionsChip14Hyper, x='time_total', y1='H2_G_min', y2='H2_G_max', alpha=0.5, \n",
    "                    facecolor=colors[0])\n",
    "fig.ax.fill_between(data=predictionsChip14Normo, x='time_total', y1='H2_G_min', y2='H2_G_max', alpha=0.5, \n",
    "                    facecolor=colors[1])\n",
    "\n",
    "fig.set_axis_labels('Time (hours)', 'Glucose (mM)')\n",
    "fig.ax.set_xticks([288,312,336])\n",
    "fig.ax.set_xlim(280,340)\n",
    "fig.despine(trim=True)\n",
    "plt.tight_layout(w_pad=-0.1)\n",
    "fig.savefig(os.path.join(figpath, \"predictionGlucoseH2.pdf\"))\n"
   ]
  },
  {
   "cell_type": "code",
   "execution_count": null,
   "id": "90dd9f74",
   "metadata": {},
   "outputs": [],
   "source": []
  }
 ],
 "metadata": {
  "kernelspec": {
   "display_name": "Python 3.9.13 ('manuscript_IR')",
   "language": "python",
   "name": "python3"
  },
  "language_info": {
   "codemirror_mode": {
    "name": "ipython",
    "version": 3
   },
   "file_extension": ".py",
   "mimetype": "text/x-python",
   "name": "python",
   "nbconvert_exporter": "python",
   "pygments_lexer": "ipython3",
   "version": "3.9.13"
  },
  "vscode": {
   "interpreter": {
    "hash": "4e23bbca6c60f71977a300b44dde33d94c5aad4c3527b6c550d67adc91be76ca"
   }
  }
 },
 "nbformat": 4,
 "nbformat_minor": 5
}
